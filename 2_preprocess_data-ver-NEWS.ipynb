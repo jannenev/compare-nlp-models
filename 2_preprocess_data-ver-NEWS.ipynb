{
 "cells": [
  {
   "cell_type": "code",
   "execution_count": 15,
   "metadata": {},
   "outputs": [],
   "source": [
    "#dataset = 'hatespeech'\n",
    "dataset = 'businessnews'"
   ]
  },
  {
   "cell_type": "code",
   "execution_count": 16,
   "metadata": {},
   "outputs": [],
   "source": [
    "import os\n",
    "import pandas as pd\n",
    "import random\n",
    "import numpy as np\n",
    "import re"
   ]
  },
  {
   "cell_type": "code",
   "execution_count": 17,
   "metadata": {},
   "outputs": [],
   "source": [
    "SEED = 1\n",
    "# REPEATABILITY\n",
    "def seed_everything(seed=SEED):\n",
    "    random.seed(seed)\n",
    "    os.environ['PYTHONHASHSEED'] = str(seed)\n",
    "    np.random.seed(seed)\n",
    "    #torch.manual_seed(seed)\n",
    "    #torch.cuda.manual_seed(seed)\n",
    "    #torch.backends.cudnn.deterministic = True\n",
    "seed_everything()\n",
    "\n",
    "puncts = [',', '.', '\"', ':', ')', '(', '-', '!', '?', '|', ';', \"'\", '$', '&', '/', '[', ']', '>', '%', '=', '#', '*', '+', '\\\\', '•',  '~', '@', '£', \n",
    " '·', '_', '{', '}', '©', '^', '®', '`',  '<', '→', '°', '€', '™', '›',  '♥', '←', '×', '§', '″', '′', 'Â', '█', '½', 'à', '…', \n",
    " '“', '★', '”', '–', '●', 'â', '►', '−', '¢', '²', '¬', '░', '¶', '↑', '±', '¿', '▾', '═', '¦', '║', '―', '¥', '▓', '—', '‹', '─', \n",
    " '▒', '：', '¼', '⊕', '▼', '▪', '†', '■', '’', '▀', '¨', '▄', '♫', '☆', 'é', '¯', '♦', '¤', '▲', 'è', '¸', '¾', 'Ã', '⋅', '‘', '∞', \n",
    " '∙', '）', '↓', '、', '│', '（', '»', '，', '♪', '╩', '╚', '³', '・', '╦', '╣', '╔', '╗', '▬', '❤', 'ï', 'Ø', '¹', '≤', '‡', '√', ]\n",
    "\n",
    "def clean_text(x):\n",
    "    x = str(x)\n",
    "    for punct in puncts:\n",
    "        if punct in x: # comparison makes faster\n",
    "            x = x.replace(punct, f' {punct} ')\n",
    "    return x\n",
    "\n",
    "quotes = ['″', '′', '\"'] # apostrophe \"'\"\n",
    "def mark_quotes(x):\n",
    "    x = str(x)\n",
    "    for quote in quotes:\n",
    "        if quote in x: # comparison makes faster\n",
    "            x = x.replace(quote, f'quote')\n",
    "    return x\n",
    "\n",
    "def preprocess(text_string):\n",
    "    \"\"\"\n",
    "    Accepts a text string and replaces:\n",
    "    1) urls with URLHERE\n",
    "    2) lots of whitespace with one instance\n",
    "    3) mentions with MENTIONHERE\n",
    "\n",
    "    This allows us to get standardized counts of urls and mentions\n",
    "    Without caring about specific people mentioned\n",
    "    \"\"\"\n",
    "    space_pattern = '\\s+'\n",
    "    giant_url_regex = ('http[s]?://(?:[a-zA-Z]|[0-9]|[$-_@.&+]|'\n",
    "        '[!*\\(\\),]|(?:%[0-9a-fA-F][0-9a-fA-F]))+')\n",
    "    \n",
    "    mention_regex = '@[\\w\\-]+'\n",
    "    \n",
    "    #add #, mention, e.g. &#8120     \n",
    "    mention_regex2  =   '&#[0-9]*' \n",
    "    \n",
    "    \n",
    "    parsed_text = re.sub(space_pattern, ' ', text_string)\n",
    "    parsed_text = re.sub(giant_url_regex, ' URL ', parsed_text)\n",
    "    parsed_text = re.sub(mention_regex, ' MENTION', parsed_text)\n",
    "    parsed_text = re.sub(mention_regex2, ' MENTION', parsed_text)    \n",
    "    return parsed_text\n",
    "\n",
    "\n",
    "def basic_tokenize(tweet):\n",
    "    \"\"\"Same as tokenize but without the stemming\"\"\"\n",
    "    \n",
    "    # *needed to be removed or outputs a list of letters\n",
    "    #tweet = \" \".join(re.split(\"[^a-zA-Z.,!?]*\", tweet.lower())).strip()\n",
    "    tweet = \" \".join(re.split(\"[^a-zA-Z.,!?]\", tweet.lower())).strip()  \n",
    "    #tweet = \" \".join(re.split(r'\\s+', tweet.lower())).strip()\n",
    "    return tweet.split()"
   ]
  },
  {
   "cell_type": "code",
   "execution_count": 18,
   "metadata": {},
   "outputs": [
    {
     "name": "stdout",
     "output_type": "stream",
     "text": [
      "/home/max/git/modelcompare/dataset_businessnews/data/\n"
     ]
    }
   ],
   "source": [
    "current = os.getcwd()\n",
    "basefolder = current + '/dataset_'+ dataset+'/'\n",
    "datafolder = basefolder + 'data/'  # for example /dataset_businessnews/data/\n",
    "print(datafolder)\n",
    "\n",
    "infolder =  basefolder + 'input/'\n",
    "outfolder = basefolder + 'output/'"
   ]
  },
  {
   "cell_type": "code",
   "execution_count": 19,
   "metadata": {},
   "outputs": [
    {
     "data": {
      "text/plain": [
       "'/home/max/git/modelcompare/dataset_businessnews/data/labeled_data.csv'"
      ]
     },
     "execution_count": 19,
     "metadata": {},
     "output_type": "execute_result"
    }
   ],
   "source": [
    "datafile = datafolder + 'labeled_data.csv' # one with ENT tag added\n",
    "datafile"
   ]
  },
  {
   "cell_type": "code",
   "execution_count": 20,
   "metadata": {},
   "outputs": [
    {
     "data": {
      "text/html": [
       "<div>\n",
       "<style scoped>\n",
       "    .dataframe tbody tr th:only-of-type {\n",
       "        vertical-align: middle;\n",
       "    }\n",
       "\n",
       "    .dataframe tbody tr th {\n",
       "        vertical-align: top;\n",
       "    }\n",
       "\n",
       "    .dataframe thead th {\n",
       "        text-align: right;\n",
       "    }\n",
       "</style>\n",
       "<table border=\"1\" class=\"dataframe\">\n",
       "  <thead>\n",
       "    <tr style=\"text-align: right;\">\n",
       "      <th></th>\n",
       "      <th>label</th>\n",
       "      <th>text</th>\n",
       "    </tr>\n",
       "  </thead>\n",
       "  <tbody>\n",
       "    <tr>\n",
       "      <th>0</th>\n",
       "      <td>2</td>\n",
       "      <td>Tesla is Now Officially More Than Just About C...</td>\n",
       "    </tr>\n",
       "    <tr>\n",
       "      <th>1</th>\n",
       "      <td>4</td>\n",
       "      <td>Health insurer ENTITY Aetna's quarterly profit...</td>\n",
       "    </tr>\n",
       "    <tr>\n",
       "      <th>2</th>\n",
       "      <td>4</td>\n",
       "      <td>The Capital Hotel sold to American hospitality...</td>\n",
       "    </tr>\n",
       "    <tr>\n",
       "      <th>3</th>\n",
       "      <td>0</td>\n",
       "      <td>German prosecutors investigate ENTITY Volkswag...</td>\n",
       "    </tr>\n",
       "  </tbody>\n",
       "</table>\n",
       "</div>"
      ],
      "text/plain": [
       "   label                                               text\n",
       "0      2  Tesla is Now Officially More Than Just About C...\n",
       "1      4  Health insurer ENTITY Aetna's quarterly profit...\n",
       "2      4  The Capital Hotel sold to American hospitality...\n",
       "3      0  German prosecutors investigate ENTITY Volkswag..."
      ]
     },
     "execution_count": 20,
     "metadata": {},
     "output_type": "execute_result"
    }
   ],
   "source": [
    "mydata = pd.read_csv(datafile, header=None, names=['label', 'text']) # hatespeech data, header exists\n",
    "mydata.head(4)"
   ]
  },
  {
   "cell_type": "raw",
   "metadata": {},
   "source": [
    "# count: nr of users who coded item\n",
    "# middle: nr who coded as hate speech / offecinve / neither\n",
    "# class: majority label of users \n",
    "#  0 - hate speech\n",
    "#  1 - ONLY offensive  language\n",
    "#  2 - neither\n",
    "\n",
    "mydata = pd.read_csv(datafile, index_col=0)\n",
    "mydata.head(4)"
   ]
  },
  {
   "cell_type": "code",
   "execution_count": 21,
   "metadata": {},
   "outputs": [
    {
     "data": {
      "text/plain": [
       "19718"
      ]
     },
     "execution_count": 21,
     "metadata": {},
     "output_type": "execute_result"
    }
   ],
   "source": [
    "len(mydata)\n",
    "\n",
    "# business news 19718\n",
    "# hatespeech  24783\n"
   ]
  },
  {
   "cell_type": "code",
   "execution_count": 22,
   "metadata": {},
   "outputs": [],
   "source": [
    "df = mydata"
   ]
  },
  {
   "cell_type": "code",
   "execution_count": 23,
   "metadata": {},
   "outputs": [],
   "source": [
    "import seaborn as sns\n",
    "sns.set()\n",
    "\n",
    "#sns.axes_style(\"whitegrid\")\n",
    "sns.set_style(\"whitegrid\")\n"
   ]
  },
  {
   "cell_type": "markdown",
   "metadata": {},
   "source": [
    "#### Truncate - optional"
   ]
  },
  {
   "cell_type": "code",
   "execution_count": 24,
   "metadata": {},
   "outputs": [
    {
     "data": {
      "text/plain": [
       "<matplotlib.axes._subplots.AxesSubplot at 0x7f55fa172908>"
      ]
     },
     "execution_count": 24,
     "metadata": {},
     "output_type": "execute_result"
    },
    {
     "data": {
      "image/png": "[encoded data removed]",
      "text/plain": [
       "<Figure size 432x288 with 1 Axes>"
      ]
     },
     "metadata": {},
     "output_type": "display_data"
    }
   ],
   "source": [
    "df['text'].map(len).hist()"
   ]
  },
  {
   "cell_type": "code",
   "execution_count": 25,
   "metadata": {},
   "outputs": [
    {
     "data": {
      "text/plain": [
       "13825"
      ]
     },
     "execution_count": 25,
     "metadata": {},
     "output_type": "execute_result"
    }
   ],
   "source": [
    "longest = df['text'].map(len).max()\n",
    "longest\n",
    "\n",
    "# Longest is 13.8k characters. From plot we see that truncating to 6k-8k characters only cuts away minimally."
   ]
  },
  {
   "cell_type": "code",
   "execution_count": 26,
   "metadata": {},
   "outputs": [
    {
     "data": {
      "text/plain": [
       "5000"
      ]
     },
     "execution_count": 26,
     "metadata": {},
     "output_type": "execute_result"
    }
   ],
   "source": [
    "maxlen = 5000\n",
    "df['text'] = df.apply(lambda row: row['text'][0:maxlen], axis=1 )\n",
    "df['text'].map(len).max()"
   ]
  },
  {
   "cell_type": "code",
   "execution_count": 27,
   "metadata": {},
   "outputs": [
    {
     "data": {
      "text/plain": [
       "<matplotlib.axes._subplots.AxesSubplot at 0x7f55f9efc588>"
      ]
     },
     "execution_count": 27,
     "metadata": {},
     "output_type": "execute_result"
    },
    {
     "data": {
      "image/png": "[encoded data removed]",
      "text/plain": [
       "<Figure size 432x288 with 1 Axes>"
      ]
     },
     "metadata": {},
     "output_type": "display_data"
    }
   ],
   "source": [
    "df['text'].map(len).hist()"
   ]
  },
  {
   "cell_type": "code",
   "execution_count": 28,
   "metadata": {},
   "outputs": [],
   "source": [
    "# Randomize data\n",
    "np.random.seed(SEED)\n",
    "trn_idx = np.random.permutation(len(df))\n",
    "df = df.iloc[trn_idx]"
   ]
  },
  {
   "cell_type": "code",
   "execution_count": 29,
   "metadata": {},
   "outputs": [
    {
     "data": {
      "text/html": [
       "<div>\n",
       "<style scoped>\n",
       "    .dataframe tbody tr th:only-of-type {\n",
       "        vertical-align: middle;\n",
       "    }\n",
       "\n",
       "    .dataframe tbody tr th {\n",
       "        vertical-align: top;\n",
       "    }\n",
       "\n",
       "    .dataframe thead th {\n",
       "        text-align: right;\n",
       "    }\n",
       "</style>\n",
       "<table border=\"1\" class=\"dataframe\">\n",
       "  <thead>\n",
       "    <tr style=\"text-align: right;\">\n",
       "      <th></th>\n",
       "      <th>label</th>\n",
       "      <th>text</th>\n",
       "    </tr>\n",
       "  </thead>\n",
       "  <tbody>\n",
       "    <tr>\n",
       "      <th>8862</th>\n",
       "      <td>3</td>\n",
       "      <td>Praxair Signs Long-Term U.S. Gulf Coast Hydrog...</td>\n",
       "    </tr>\n",
       "    <tr>\n",
       "      <th>3261</th>\n",
       "      <td>0</td>\n",
       "      <td>ENTITY Twitter, Inc. Posts Flat U.S. Monthly A...</td>\n",
       "    </tr>\n",
       "    <tr>\n",
       "      <th>4135</th>\n",
       "      <td>0</td>\n",
       "      <td>What Impact Will The DuPont Settlement Have On...</td>\n",
       "    </tr>\n",
       "    <tr>\n",
       "      <th>6394</th>\n",
       "      <td>1</td>\n",
       "      <td>ENTITY Coca-Cola profits in line with estimate...</td>\n",
       "    </tr>\n",
       "    <tr>\n",
       "      <th>10366</th>\n",
       "      <td>4</td>\n",
       "      <td>ENTITY Heineken posts 9.9% rise in annual earn...</td>\n",
       "    </tr>\n",
       "    <tr>\n",
       "      <th>...</th>\n",
       "      <td>...</td>\n",
       "      <td>...</td>\n",
       "    </tr>\n",
       "    <tr>\n",
       "      <th>10955</th>\n",
       "      <td>3</td>\n",
       "      <td>American International Group Inc. Increases Po...</td>\n",
       "    </tr>\n",
       "    <tr>\n",
       "      <th>17289</th>\n",
       "      <td>3</td>\n",
       "      <td>Top automakers fund charging sites to boost el...</td>\n",
       "    </tr>\n",
       "    <tr>\n",
       "      <th>5192</th>\n",
       "      <td>1</td>\n",
       "      <td>Carrier incentives stir debate over 'rewarding...</td>\n",
       "    </tr>\n",
       "    <tr>\n",
       "      <th>12172</th>\n",
       "      <td>4</td>\n",
       "      <td>ENTITY Netflix posts better-than-expected quar...</td>\n",
       "    </tr>\n",
       "    <tr>\n",
       "      <th>235</th>\n",
       "      <td>0</td>\n",
       "      <td>VW Recovery Dealt Blow by Poetsch Probe, ENTIT...</td>\n",
       "    </tr>\n",
       "  </tbody>\n",
       "</table>\n",
       "<p>19718 rows × 2 columns</p>\n",
       "</div>"
      ],
      "text/plain": [
       "       label                                               text\n",
       "8862       3  Praxair Signs Long-Term U.S. Gulf Coast Hydrog...\n",
       "3261       0  ENTITY Twitter, Inc. Posts Flat U.S. Monthly A...\n",
       "4135       0  What Impact Will The DuPont Settlement Have On...\n",
       "6394       1  ENTITY Coca-Cola profits in line with estimate...\n",
       "10366      4  ENTITY Heineken posts 9.9% rise in annual earn...\n",
       "...      ...                                                ...\n",
       "10955      3  American International Group Inc. Increases Po...\n",
       "17289      3  Top automakers fund charging sites to boost el...\n",
       "5192       1  Carrier incentives stir debate over 'rewarding...\n",
       "12172      4  ENTITY Netflix posts better-than-expected quar...\n",
       "235        0  VW Recovery Dealt Blow by Poetsch Probe, ENTIT...\n",
       "\n",
       "[19718 rows x 2 columns]"
      ]
     },
     "execution_count": 29,
     "metadata": {},
     "output_type": "execute_result"
    }
   ],
   "source": [
    "df"
   ]
  },
  {
   "cell_type": "code",
   "execution_count": 30,
   "metadata": {},
   "outputs": [],
   "source": [
    "# Preprocess"
   ]
  },
  {
   "cell_type": "raw",
   "metadata": {},
   "source": [
    "df.text = df.text.apply(lambda x: preprocess(x)) #URL, @mention etc\n",
    "df[\"text\"] = df[\"text\"].apply(lambda x: clean_text(x))\n",
    "df[\"text\"] = df[\"text\"].apply(lambda x: mark_quotes(x))\n",
    "#df.text = df.text.apply(lambda x: basic_tokenize(x))\n",
    "\n",
    "df.head(4)"
   ]
  },
  {
   "cell_type": "markdown",
   "metadata": {},
   "source": [
    "### Write data with minimal preprosessing out to one file"
   ]
  },
  {
   "cell_type": "code",
   "execution_count": 31,
   "metadata": {},
   "outputs": [],
   "source": [
    "# if need, first create input/ and output/\n",
    "\n",
    "df.to_csv(basefolder+'input/alldata.csv',sep='\\t', index = False, header = False)"
   ]
  },
  {
   "cell_type": "raw",
   "metadata": {},
   "source": [
    "size = len(df)\n",
    "train_size = int(0.7*size)\n",
    "test_size = int(0.85*size)\n",
    "# val is rest\n",
    "\n",
    "# split it\n",
    "train = df[0: train_size]\n",
    "val = df[train_size : test_size]\n",
    "test = df[test_size : size]"
   ]
  },
  {
   "cell_type": "code",
   "execution_count": 32,
   "metadata": {},
   "outputs": [],
   "source": [
    "# add index as own column to keep track of each items id\n",
    "df = df.reset_index()"
   ]
  },
  {
   "cell_type": "markdown",
   "metadata": {},
   "source": [
    "### Train,dev,test split by strafity (keep ratio of classes)"
   ]
  },
  {
   "cell_type": "code",
   "execution_count": 33,
   "metadata": {},
   "outputs": [
    {
     "name": "stdout",
     "output_type": "stream",
     "text": [
      "3000\n",
      "16718\n"
     ]
    }
   ],
   "source": [
    "from sklearn.model_selection import train_test_split\n",
    "\n",
    "seed_everything(seed=1)\n",
    "\n",
    "size = len(df)\n",
    "dev_size = 3000\n",
    "test_size = 3000\n",
    "\n",
    "\n",
    "# slice out the test set\n",
    "remaining, test = train_test_split(df, stratify=df['label'], test_size=test_size)\n",
    "print(len(test))\n",
    "print(len(remaining))\n",
    "# slice out train and dev\n",
    "train, dev = train_test_split(remaining, stratify=remaining['label'], test_size=dev_size)\n",
    "\n",
    "\n",
    "#train = df[0 : size - test_size - dev_size]\n",
    "#dev = df[size - test_size - dev_size : size-test_size]\n",
    "#test = df[size-test_size : size]\n",
    "\n",
    "\n",
    "#train.to_json('input/train.json', orient='records', lines=True)\n",
    "#val.to_json('input/val.json', orient='records', lines=True)\n",
    "#test.to_json('input/test.json', orient='records', lines=True)\n",
    "\n",
    "train.to_csv(basefolder+'input/train.csv',sep='\\t', index = False, header = False)\n",
    "dev.to_csv(basefolder+'input/dev.csv'  ,sep='\\t', index = False, header = False)\n",
    "test.to_csv(basefolder+'input/test.csv',sep='\\t', index = False, header = False)"
   ]
  },
  {
   "cell_type": "code",
   "execution_count": 34,
   "metadata": {},
   "outputs": [
    {
     "data": {
      "text/plain": [
       "13718"
      ]
     },
     "execution_count": 34,
     "metadata": {},
     "output_type": "execute_result"
    }
   ],
   "source": [
    "len(train)"
   ]
  },
  {
   "cell_type": "code",
   "execution_count": 35,
   "metadata": {},
   "outputs": [
    {
     "data": {
      "text/plain": [
       "3000"
      ]
     },
     "execution_count": 35,
     "metadata": {},
     "output_type": "execute_result"
    }
   ],
   "source": [
    "len(dev)"
   ]
  },
  {
   "cell_type": "code",
   "execution_count": 36,
   "metadata": {},
   "outputs": [
    {
     "data": {
      "text/plain": [
       "3000"
      ]
     },
     "execution_count": 36,
     "metadata": {},
     "output_type": "execute_result"
    }
   ],
   "source": [
    "len(test)"
   ]
  },
  {
   "cell_type": "code",
   "execution_count": 37,
   "metadata": {},
   "outputs": [
    {
     "data": {
      "text/html": [
       "<div>\n",
       "<style scoped>\n",
       "    .dataframe tbody tr th:only-of-type {\n",
       "        vertical-align: middle;\n",
       "    }\n",
       "\n",
       "    .dataframe tbody tr th {\n",
       "        vertical-align: top;\n",
       "    }\n",
       "\n",
       "    .dataframe thead th {\n",
       "        text-align: right;\n",
       "    }\n",
       "</style>\n",
       "<table border=\"1\" class=\"dataframe\">\n",
       "  <thead>\n",
       "    <tr style=\"text-align: right;\">\n",
       "      <th></th>\n",
       "      <th>index</th>\n",
       "      <th>label</th>\n",
       "      <th>text</th>\n",
       "    </tr>\n",
       "  </thead>\n",
       "  <tbody>\n",
       "    <tr>\n",
       "      <th>7551</th>\n",
       "      <td>14177</td>\n",
       "      <td>0</td>\n",
       "      <td>ENTITY Lufthansa pilot 'strike' forces over 18...</td>\n",
       "    </tr>\n",
       "    <tr>\n",
       "      <th>5993</th>\n",
       "      <td>2954</td>\n",
       "      <td>0</td>\n",
       "      <td>ENTITY Tiffany, &amp; CO is sliding as its CEO res...</td>\n",
       "    </tr>\n",
       "    <tr>\n",
       "      <th>14650</th>\n",
       "      <td>18362</td>\n",
       "      <td>3</td>\n",
       "      <td>ENTITY Tesla will begin Model 3 production tri...</td>\n",
       "    </tr>\n",
       "    <tr>\n",
       "      <th>1663</th>\n",
       "      <td>1005</td>\n",
       "      <td>0</td>\n",
       "      <td>ENTITY The Limited to Close all Brick-and-Mort...</td>\n",
       "    </tr>\n",
       "    <tr>\n",
       "      <th>18303</th>\n",
       "      <td>5777</td>\n",
       "      <td>1</td>\n",
       "      <td>ENTITY Samsung Electronics says battery caused...</td>\n",
       "    </tr>\n",
       "  </tbody>\n",
       "</table>\n",
       "</div>"
      ],
      "text/plain": [
       "       index  label                                               text\n",
       "7551   14177      0  ENTITY Lufthansa pilot 'strike' forces over 18...\n",
       "5993    2954      0  ENTITY Tiffany, & CO is sliding as its CEO res...\n",
       "14650  18362      3  ENTITY Tesla will begin Model 3 production tri...\n",
       "1663    1005      0  ENTITY The Limited to Close all Brick-and-Mort...\n",
       "18303   5777      1  ENTITY Samsung Electronics says battery caused..."
      ]
     },
     "execution_count": 37,
     "metadata": {},
     "output_type": "execute_result"
    }
   ],
   "source": [
    "test.head()"
   ]
  },
  {
   "cell_type": "markdown",
   "metadata": {},
   "source": [
    "### print info about data"
   ]
  },
  {
   "cell_type": "code",
   "execution_count": 38,
   "metadata": {},
   "outputs": [
    {
     "data": {
      "text/plain": [
       "Counter({3: 6250, 0: 5743, 1: 3471, 4: 3877, 2: 377})"
      ]
     },
     "execution_count": 38,
     "metadata": {},
     "output_type": "execute_result"
    }
   ],
   "source": [
    "# Counts, Majority\n",
    "\n",
    "# 0 - very negative\n",
    "# 1 - negative\n",
    "# 2 - neutral\n",
    "# 3 - positive\n",
    "# 4 - very positive\n",
    "# (removed: 5 - contradiction between annotators)\n",
    "\n",
    "from collections import Counter\n",
    "c = Counter(df['label'])\n",
    "c\n"
   ]
  },
  {
   "cell_type": "code",
   "execution_count": 39,
   "metadata": {},
   "outputs": [
    {
     "name": "stdout",
     "output_type": "stream",
     "text": [
      "3 0.31696926665990466\n",
      "0 0.2912567197484532\n",
      "1 0.17603205193224464\n",
      "4 0.19662237549447206\n",
      "2 0.01911958616492545\n"
     ]
    }
   ],
   "source": [
    "# Majority class by 0.32 is class 3 - positive\n",
    "# 2nd is class 0 by 0.29, very negative\n",
    "\n",
    "from collections import Counter\n",
    "c = Counter(df['label'])\n",
    "\n",
    "s = sum(c.values())\n",
    "for elem, count in c.items():\n",
    "      print(elem, count / s)"
   ]
  },
  {
   "cell_type": "code",
   "execution_count": 40,
   "metadata": {},
   "outputs": [],
   "source": [
    "# use seaborn background for plot\n",
    "import seaborn as sns\n",
    "sns.set()\n",
    "\n",
    "#sns.axes_style(\"whitegrid\")\n",
    "sns.set_style(\"whitegrid\")"
   ]
  },
  {
   "cell_type": "code",
   "execution_count": 41,
   "metadata": {},
   "outputs": [
    {
     "data": {
      "image/png": "[encoded data removed]",
      "text/plain": [
       "<Figure size 432x288 with 1 Axes>"
      ]
     },
     "metadata": {},
     "output_type": "display_data"
    }
   ],
   "source": [
    "import collections\n",
    "import matplotlib.pyplot as plt\n",
    "\n",
    "plt.bar(c.keys(), c.values())\n",
    "plt.show()"
   ]
  },
  {
   "cell_type": "code",
   "execution_count": 42,
   "metadata": {},
   "outputs": [
    {
     "data": {
      "image/png": "[encoded data removed]",
      "text/plain": [
       "<Figure size 432x288 with 1 Axes>"
      ]
     },
     "metadata": {},
     "output_type": "display_data"
    }
   ],
   "source": [
    "sns.set_style(\"darkgrid\")\n",
    "\n",
    "import collections\n",
    "import matplotlib.pyplot as plt\n",
    "\n",
    "#sns.set_style(\"ticks\")\n",
    "#sns.set()\n",
    "plt.bar(c.keys(), c.values())\n",
    "plt.show()"
   ]
  }
 ],
 "metadata": {
  "kernelspec": {
   "display_name": "Python 3",
   "language": "python",
   "name": "python3"
  },
  "language_info": {
   "codemirror_mode": {
    "name": "ipython",
    "version": 3
   },
   "file_extension": ".py",
   "mimetype": "text/x-python",
   "name": "python",
   "nbconvert_exporter": "python",
   "pygments_lexer": "ipython3",
   "version": "3.6.9"
  }
 },
 "nbformat": 4,
 "nbformat_minor": 2
}
